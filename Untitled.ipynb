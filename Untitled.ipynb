{
 "cells": [
  {
   "cell_type": "code",
   "execution_count": 11,
   "id": "68322be2",
   "metadata": {},
   "outputs": [],
   "source": [
    "import pandas as pd\n",
    "\n",
    "# create a sample dataframe\n",
    "df = pd.DataFrame({'date': ['Jan-70', 'Feb-69', 'Mar-68', 'Apr-67', 'May-66', 'Jun-65', 'Jul-64', 'Aug-63', 'Sep-62', 'Oct-61', 'Nov-60', 'Dec-59' ]})\n",
    "\n",
    "# convert 'date' column to datetime type\n",
    "#df['date'] = pd.to_datetime(df['date'])\n",
    "\n"
   ]
  },
  {
   "cell_type": "code",
   "execution_count": 6,
   "id": "a2ce0d32",
   "metadata": {},
   "outputs": [
    {
     "name": "stdout",
     "output_type": "stream",
     "text": [
      "['1968-03-01', '1963-05-01', '1964-06-01']\n"
     ]
    }
   ],
   "source": [
    "from datetime import datetime\n",
    "\n",
    "date_series = ['Mar-68', 'May-63', 'Jun-64']\n",
    "\n",
    "def convert_date(date_str):\n",
    "    date_obj = datetime.strptime(date_str, '%b-%y')\n",
    "    year = date_obj.year\n",
    "    if year > 2014:\n",
    "        year -= 100\n",
    "#     else:\n",
    "#         year += 1900\n",
    "    return date_obj.replace(year=year, day=1).strftime('%Y-%m-%d')\n",
    "\n",
    "new_date_series = [convert_date(date_str) for date_str in date_series]\n",
    "\n",
    "print(new_date_series)\n"
   ]
  },
  {
   "cell_type": "code",
   "execution_count": 12,
   "id": "1887ecbb",
   "metadata": {},
   "outputs": [
    {
     "name": "stdout",
     "output_type": "stream",
     "text": [
      "<class 'pandas.core.frame.DataFrame'>\n",
      "RangeIndex: 12 entries, 0 to 11\n",
      "Data columns (total 1 columns):\n",
      " #   Column  Non-Null Count  Dtype \n",
      "---  ------  --------------  ----- \n",
      " 0   date    12 non-null     object\n",
      "dtypes: object(1)\n",
      "memory usage: 224.0+ bytes\n"
     ]
    }
   ],
   "source": [
    "df.info()"
   ]
  },
  {
   "cell_type": "code",
   "execution_count": 13,
   "id": "b1a96b00",
   "metadata": {},
   "outputs": [],
   "source": [
    "df['dd'] = df['date'].apply(convert_date)"
   ]
  },
  {
   "cell_type": "code",
   "execution_count": 14,
   "id": "a3ed95f7",
   "metadata": {},
   "outputs": [
    {
     "data": {
      "text/html": [
       "<div>\n",
       "<style scoped>\n",
       "    .dataframe tbody tr th:only-of-type {\n",
       "        vertical-align: middle;\n",
       "    }\n",
       "\n",
       "    .dataframe tbody tr th {\n",
       "        vertical-align: top;\n",
       "    }\n",
       "\n",
       "    .dataframe thead th {\n",
       "        text-align: right;\n",
       "    }\n",
       "</style>\n",
       "<table border=\"1\" class=\"dataframe\">\n",
       "  <thead>\n",
       "    <tr style=\"text-align: right;\">\n",
       "      <th></th>\n",
       "      <th>date</th>\n",
       "      <th>dd</th>\n",
       "    </tr>\n",
       "  </thead>\n",
       "  <tbody>\n",
       "    <tr>\n",
       "      <th>0</th>\n",
       "      <td>Jan-70</td>\n",
       "      <td>1970-01-01</td>\n",
       "    </tr>\n",
       "    <tr>\n",
       "      <th>1</th>\n",
       "      <td>Feb-69</td>\n",
       "      <td>1969-02-01</td>\n",
       "    </tr>\n",
       "    <tr>\n",
       "      <th>2</th>\n",
       "      <td>Mar-68</td>\n",
       "      <td>1968-03-01</td>\n",
       "    </tr>\n",
       "    <tr>\n",
       "      <th>3</th>\n",
       "      <td>Apr-67</td>\n",
       "      <td>1967-04-01</td>\n",
       "    </tr>\n",
       "    <tr>\n",
       "      <th>4</th>\n",
       "      <td>May-66</td>\n",
       "      <td>1966-05-01</td>\n",
       "    </tr>\n",
       "    <tr>\n",
       "      <th>5</th>\n",
       "      <td>Jun-65</td>\n",
       "      <td>1965-06-01</td>\n",
       "    </tr>\n",
       "    <tr>\n",
       "      <th>6</th>\n",
       "      <td>Jul-64</td>\n",
       "      <td>1964-07-01</td>\n",
       "    </tr>\n",
       "    <tr>\n",
       "      <th>7</th>\n",
       "      <td>Aug-63</td>\n",
       "      <td>1963-08-01</td>\n",
       "    </tr>\n",
       "    <tr>\n",
       "      <th>8</th>\n",
       "      <td>Sep-62</td>\n",
       "      <td>1962-09-01</td>\n",
       "    </tr>\n",
       "    <tr>\n",
       "      <th>9</th>\n",
       "      <td>Oct-61</td>\n",
       "      <td>1961-10-01</td>\n",
       "    </tr>\n",
       "    <tr>\n",
       "      <th>10</th>\n",
       "      <td>Nov-60</td>\n",
       "      <td>1960-11-01</td>\n",
       "    </tr>\n",
       "    <tr>\n",
       "      <th>11</th>\n",
       "      <td>Dec-59</td>\n",
       "      <td>1959-12-01</td>\n",
       "    </tr>\n",
       "  </tbody>\n",
       "</table>\n",
       "</div>"
      ],
      "text/plain": [
       "      date          dd\n",
       "0   Jan-70  1970-01-01\n",
       "1   Feb-69  1969-02-01\n",
       "2   Mar-68  1968-03-01\n",
       "3   Apr-67  1967-04-01\n",
       "4   May-66  1966-05-01\n",
       "5   Jun-65  1965-06-01\n",
       "6   Jul-64  1964-07-01\n",
       "7   Aug-63  1963-08-01\n",
       "8   Sep-62  1962-09-01\n",
       "9   Oct-61  1961-10-01\n",
       "10  Nov-60  1960-11-01\n",
       "11  Dec-59  1959-12-01"
      ]
     },
     "execution_count": 14,
     "metadata": {},
     "output_type": "execute_result"
    }
   ],
   "source": [
    "df"
   ]
  },
  {
   "cell_type": "code",
   "execution_count": 15,
   "id": "0ef1f172",
   "metadata": {},
   "outputs": [],
   "source": [
    "def convert_date2(date_str):\n",
    "    date_obj = pd.to_datetime(date_str, format='%b-%y')\n",
    "    year = date_obj.year\n",
    "    if year > 2014:\n",
    "        year -= 100\n",
    "    return date_obj"
   ]
  },
  {
   "cell_type": "code",
   "execution_count": 16,
   "id": "7cba785e",
   "metadata": {},
   "outputs": [],
   "source": [
    "df['da'] = df['date'].apply(convert_date2)"
   ]
  },
  {
   "cell_type": "code",
   "execution_count": 17,
   "id": "f27922b8",
   "metadata": {},
   "outputs": [
    {
     "data": {
      "text/html": [
       "<div>\n",
       "<style scoped>\n",
       "    .dataframe tbody tr th:only-of-type {\n",
       "        vertical-align: middle;\n",
       "    }\n",
       "\n",
       "    .dataframe tbody tr th {\n",
       "        vertical-align: top;\n",
       "    }\n",
       "\n",
       "    .dataframe thead th {\n",
       "        text-align: right;\n",
       "    }\n",
       "</style>\n",
       "<table border=\"1\" class=\"dataframe\">\n",
       "  <thead>\n",
       "    <tr style=\"text-align: right;\">\n",
       "      <th></th>\n",
       "      <th>date</th>\n",
       "      <th>dd</th>\n",
       "      <th>da</th>\n",
       "    </tr>\n",
       "  </thead>\n",
       "  <tbody>\n",
       "    <tr>\n",
       "      <th>0</th>\n",
       "      <td>Jan-70</td>\n",
       "      <td>1970-01-01</td>\n",
       "      <td>1970-01-01</td>\n",
       "    </tr>\n",
       "    <tr>\n",
       "      <th>1</th>\n",
       "      <td>Feb-69</td>\n",
       "      <td>1969-02-01</td>\n",
       "      <td>1969-02-01</td>\n",
       "    </tr>\n",
       "    <tr>\n",
       "      <th>2</th>\n",
       "      <td>Mar-68</td>\n",
       "      <td>1968-03-01</td>\n",
       "      <td>2068-03-01</td>\n",
       "    </tr>\n",
       "    <tr>\n",
       "      <th>3</th>\n",
       "      <td>Apr-67</td>\n",
       "      <td>1967-04-01</td>\n",
       "      <td>2067-04-01</td>\n",
       "    </tr>\n",
       "    <tr>\n",
       "      <th>4</th>\n",
       "      <td>May-66</td>\n",
       "      <td>1966-05-01</td>\n",
       "      <td>2066-05-01</td>\n",
       "    </tr>\n",
       "    <tr>\n",
       "      <th>5</th>\n",
       "      <td>Jun-65</td>\n",
       "      <td>1965-06-01</td>\n",
       "      <td>2065-06-01</td>\n",
       "    </tr>\n",
       "    <tr>\n",
       "      <th>6</th>\n",
       "      <td>Jul-64</td>\n",
       "      <td>1964-07-01</td>\n",
       "      <td>2064-07-01</td>\n",
       "    </tr>\n",
       "    <tr>\n",
       "      <th>7</th>\n",
       "      <td>Aug-63</td>\n",
       "      <td>1963-08-01</td>\n",
       "      <td>2063-08-01</td>\n",
       "    </tr>\n",
       "    <tr>\n",
       "      <th>8</th>\n",
       "      <td>Sep-62</td>\n",
       "      <td>1962-09-01</td>\n",
       "      <td>2062-09-01</td>\n",
       "    </tr>\n",
       "    <tr>\n",
       "      <th>9</th>\n",
       "      <td>Oct-61</td>\n",
       "      <td>1961-10-01</td>\n",
       "      <td>2061-10-01</td>\n",
       "    </tr>\n",
       "    <tr>\n",
       "      <th>10</th>\n",
       "      <td>Nov-60</td>\n",
       "      <td>1960-11-01</td>\n",
       "      <td>2060-11-01</td>\n",
       "    </tr>\n",
       "    <tr>\n",
       "      <th>11</th>\n",
       "      <td>Dec-59</td>\n",
       "      <td>1959-12-01</td>\n",
       "      <td>2059-12-01</td>\n",
       "    </tr>\n",
       "  </tbody>\n",
       "</table>\n",
       "</div>"
      ],
      "text/plain": [
       "      date          dd         da\n",
       "0   Jan-70  1970-01-01 1970-01-01\n",
       "1   Feb-69  1969-02-01 1969-02-01\n",
       "2   Mar-68  1968-03-01 2068-03-01\n",
       "3   Apr-67  1967-04-01 2067-04-01\n",
       "4   May-66  1966-05-01 2066-05-01\n",
       "5   Jun-65  1965-06-01 2065-06-01\n",
       "6   Jul-64  1964-07-01 2064-07-01\n",
       "7   Aug-63  1963-08-01 2063-08-01\n",
       "8   Sep-62  1962-09-01 2062-09-01\n",
       "9   Oct-61  1961-10-01 2061-10-01\n",
       "10  Nov-60  1960-11-01 2060-11-01\n",
       "11  Dec-59  1959-12-01 2059-12-01"
      ]
     },
     "execution_count": 17,
     "metadata": {},
     "output_type": "execute_result"
    }
   ],
   "source": [
    "df"
   ]
  },
  {
   "cell_type": "code",
   "execution_count": null,
   "id": "28cf9c12",
   "metadata": {},
   "outputs": [],
   "source": []
  }
 ],
 "metadata": {
  "kernelspec": {
   "display_name": "Python 3 (ipykernel)",
   "language": "python",
   "name": "python3"
  },
  "language_info": {
   "codemirror_mode": {
    "name": "ipython",
    "version": 3
   },
   "file_extension": ".py",
   "mimetype": "text/x-python",
   "name": "python",
   "nbconvert_exporter": "python",
   "pygments_lexer": "ipython3",
   "version": "3.11.1"
  }
 },
 "nbformat": 4,
 "nbformat_minor": 5
}
